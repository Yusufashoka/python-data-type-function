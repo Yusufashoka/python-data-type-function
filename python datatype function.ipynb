{
  "nbformat": 4,
  "nbformat_minor": 0,
  "metadata": {
    "colab": {
      "name": "sudahyaok.ipynb",
      "provenance": []
    },
    "kernelspec": {
      "name": "python3",
      "display_name": "Python 3"
    },
    "language_info": {
      "name": "python"
    }
  },
  "cells": [
    {
      "cell_type": "markdown",
      "source": [
        "Set"
      ],
      "metadata": {
        "id": "zGYQe0rLiFDY"
      }
    },
    {
      "cell_type": "markdown",
      "source": [
        "Sets are unordered, mutable collections of immutable objects that cannot contain duplicates. Sets are useful for storing and performing operations on data where each value is unique. Create a set with a comma separated sequence of values within curly braces."
      ],
      "metadata": {
        "id": "O3hSSKiFhPD2"
      }
    },
    {
      "cell_type": "code",
      "execution_count": 6,
      "metadata": {
        "id": "ulw_UqCVfggO"
      },
      "outputs": [],
      "source": [
        "#General Syntax\n",
        "some_set = {\"item 1\", \"item 2\", \"item n\"}"
      ]
    },
    {
      "cell_type": "code",
      "source": [
        "color = {\"yellow\", \"blue\", \"red\", \"green\", \"white\"}"
      ],
      "metadata": {
        "id": "FBtFUOERjfOM"
      },
      "execution_count": 20,
      "outputs": []
    },
    {
      "cell_type": "code",
      "source": [
        " #Add and remove items from a set with add() and remove() respectively\n",
        "color.add(\"skyblue\")"
      ],
      "metadata": {
        "id": "ZIvUzpZ8kA0p"
      },
      "execution_count": 21,
      "outputs": []
    },
    {
      "cell_type": "code",
      "source": [
        "print(color)"
      ],
      "metadata": {
        "colab": {
          "base_uri": "https://localhost:8080/"
        },
        "id": "LprWGFt6klKm",
        "outputId": "67dd3b81-a840-445a-8b8e-e17bb25c73d2"
      },
      "execution_count": 22,
      "outputs": [
        {
          "output_type": "stream",
          "name": "stdout",
          "text": [
            "{'white', 'green', 'skyblue', 'red', 'yellow', 'blue'}\n"
          ]
        }
      ]
    },
    {
      "cell_type": "code",
      "source": [
        "color.remove(\"red\")\n",
        "print(color)"
      ],
      "metadata": {
        "colab": {
          "base_uri": "https://localhost:8080/"
        },
        "id": "c_NnIywUkow3",
        "outputId": "207a0d35-5121-4569-b7c8-887c48009f9d"
      },
      "execution_count": 23,
      "outputs": [
        {
          "output_type": "stream",
          "name": "stdout",
          "text": [
            "{'white', 'green', 'skyblue', 'yellow', 'blue'}\n"
          ]
        }
      ]
    },
    {
      "cell_type": "markdown",
      "source": [
        "Dictionary"
      ],
      "metadata": {
        "id": "wljntI7PnBz2"
      }
    },
    {
      "cell_type": "markdown",
      "source": [
        "Dictionary is also a non-homogeneous data structure which stores key value pairs, represented by {}, and doesn’t allow duplicate keys."
      ],
      "metadata": {
        "id": "Xierp0_8o2Oq"
      }
    },
    {
      "cell_type": "code",
      "source": [
        "#Create a dict object\n",
        "student = {\"firstName\": \"Tiara\", \"lastName\": \"Andini\",\"age\": 20, \"hobby\": \"watch MV\"}"
      ],
      "metadata": {
        "id": "kEDrHnNel5NL"
      },
      "execution_count": 29,
      "outputs": []
    },
    {
      "cell_type": "code",
      "source": [
        "#Access the value using the key\n",
        "print(student['lastName'])"
      ],
      "metadata": {
        "colab": {
          "base_uri": "https://localhost:8080/"
        },
        "id": "4JmRCwXxqC68",
        "outputId": "1d77210b-06da-449e-9156-3f0045f46454"
      },
      "execution_count": 30,
      "outputs": [
        {
          "output_type": "stream",
          "name": "stdout",
          "text": [
            "Andini\n"
          ]
        }
      ]
    },
    {
      "cell_type": "code",
      "source": [
        "#Update the value for a particular key\n",
        "student['hobby'] = \"study\""
      ],
      "metadata": {
        "id": "rjgNz3OLqdVz"
      },
      "execution_count": 31,
      "outputs": []
    },
    {
      "cell_type": "code",
      "source": [
        "print(student[\"hobby\"])"
      ],
      "metadata": {
        "colab": {
          "base_uri": "https://localhost:8080/"
        },
        "id": "igW5gqEcqnjx",
        "outputId": "97426476-5db0-4306-d7b3-ee82337e4158"
      },
      "execution_count": 32,
      "outputs": [
        {
          "output_type": "stream",
          "name": "stdout",
          "text": [
            "study\n"
          ]
        }
      ]
    },
    {
      "cell_type": "code",
      "source": [
        "#Insert a new key-value pair\n",
        "student['middleName'] = 'Angel'"
      ],
      "metadata": {
        "id": "ev6gp2r4qzuE"
      },
      "execution_count": 34,
      "outputs": []
    },
    {
      "cell_type": "code",
      "source": [
        "print(student)"
      ],
      "metadata": {
        "colab": {
          "base_uri": "https://localhost:8080/"
        },
        "id": "MiKXIMvMrJ9J",
        "outputId": "ae885fd7-de04-4256-c585-5f49d8d1a013"
      },
      "execution_count": 35,
      "outputs": [
        {
          "output_type": "stream",
          "name": "stdout",
          "text": [
            "{'firstName': 'Tiara', 'lastName': 'Andini', 'age': 20, 'hobby': 'study', 'middleName': 'Angel'}\n"
          ]
        }
      ]
    },
    {
      "cell_type": "code",
      "source": [
        "#Delete a key-value pair\n",
        "del student['hobby']\n",
        "print(student)"
      ],
      "metadata": {
        "colab": {
          "base_uri": "https://localhost:8080/"
        },
        "id": "r5r9TsXMrTdp",
        "outputId": "708d1404-7531-4b74-debd-0cd0157e5284"
      },
      "execution_count": 36,
      "outputs": [
        {
          "output_type": "stream",
          "name": "stdout",
          "text": [
            "{'firstName': 'Tiara', 'lastName': 'Andini', 'age': 20, 'middleName': 'Angel'}\n"
          ]
        }
      ]
    },
    {
      "cell_type": "markdown",
      "source": [
        "Convert Data Types"
      ],
      "metadata": {
        "id": "tZYBEnrUsIp3"
      }
    },
    {
      "cell_type": "markdown",
      "source": [
        "The process of converting the value of one data type (integer, string, float, etc.) to another data type"
      ],
      "metadata": {
        "id": "ppW_FoImsD02"
      }
    },
    {
      "cell_type": "code",
      "source": [
        "#Converts object x to a string representation with str(). To do this pass a number or a variable containing the numeric value to this function.\n",
        "p = str(29)"
      ],
      "metadata": {
        "id": "qWSTs_xFserX"
      },
      "execution_count": 49,
      "outputs": []
    },
    {
      "cell_type": "code",
      "source": [
        "print(type(p))"
      ],
      "metadata": {
        "colab": {
          "base_uri": "https://localhost:8080/"
        },
        "id": "nYgwGfR4szI3",
        "outputId": "a54d59e6-f96b-43b5-85ed-3bfec8316e34"
      },
      "execution_count": 50,
      "outputs": [
        {
          "output_type": "stream",
          "name": "stdout",
          "text": [
            "<class 'str'>\n"
          ]
        }
      ]
    },
    {
      "cell_type": "code",
      "source": [
        "age = 21\n",
        "warning = 'You must be ' + str(age) + '-years-old to enter this bar'\n",
        "warning"
      ],
      "metadata": {
        "colab": {
          "base_uri": "https://localhost:8080/",
          "height": 35
        },
        "id": "I9CWlX9ds5Gi",
        "outputId": "2853a15b-2a41-4ed6-c78c-3c469ed82b14"
      },
      "execution_count": 39,
      "outputs": [
        {
          "output_type": "execute_result",
          "data": {
            "text/plain": [
              "'You must be 21-years-old to enter this bar'"
            ],
            "application/vnd.google.colaboratory.intrinsic+json": {
              "type": "string"
            }
          },
          "metadata": {},
          "execution_count": 39
        }
      ]
    },
    {
      "cell_type": "code",
      "source": [
        "#Converts x to a floating-point number with float(x)\n",
        "n = float(\"1.98\")"
      ],
      "metadata": {
        "id": "gxqXy23-tjr0"
      },
      "execution_count": 43,
      "outputs": []
    },
    {
      "cell_type": "code",
      "source": [
        "print(type(n))"
      ],
      "metadata": {
        "colab": {
          "base_uri": "https://localhost:8080/"
        },
        "id": "UcCWtJ16u0Oi",
        "outputId": "9a698e55-8178-4be8-dc99-ae3578e0f2be"
      },
      "execution_count": 44,
      "outputs": [
        {
          "output_type": "stream",
          "name": "stdout",
          "text": [
            "<class 'float'>\n"
          ]
        }
      ]
    },
    {
      "cell_type": "code",
      "source": [
        "m = float(91)"
      ],
      "metadata": {
        "id": "rOUrPFLTt6Nh"
      },
      "execution_count": 45,
      "outputs": []
    },
    {
      "cell_type": "code",
      "source": [
        "print(type(m))"
      ],
      "metadata": {
        "colab": {
          "base_uri": "https://localhost:8080/"
        },
        "id": "IbYBUTXNvDss",
        "outputId": "4e94052d-6446-4e9d-faf0-7358c26f22be"
      },
      "execution_count": 46,
      "outputs": [
        {
          "output_type": "stream",
          "name": "stdout",
          "text": [
            "<class 'float'>\n"
          ]
        }
      ]
    },
    {
      "cell_type": "code",
      "source": [
        "#Converts x to an integer with int(x)\n",
        "o = int(6.1)"
      ],
      "metadata": {
        "id": "uA-6Nj9at9fn"
      },
      "execution_count": 51,
      "outputs": []
    },
    {
      "cell_type": "code",
      "source": [
        "print(type(o))"
      ],
      "metadata": {
        "colab": {
          "base_uri": "https://localhost:8080/"
        },
        "id": "hm_xD7ImvYwh",
        "outputId": "9b3a0ec1-aab6-4f89-aed2-8eef9c2f1a1c"
      },
      "execution_count": 52,
      "outputs": [
        {
          "output_type": "stream",
          "name": "stdout",
          "text": [
            "<class 'int'>\n"
          ]
        }
      ]
    }
  ]
}