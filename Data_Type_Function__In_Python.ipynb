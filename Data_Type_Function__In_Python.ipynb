{
  "nbformat": 4,
  "nbformat_minor": 0,
  "metadata": {
    "colab": {
      "name": "Data Type_Function _In Python.ipynb",
      "provenance": []
    },
    "kernelspec": {
      "name": "python3",
      "display_name": "Python 3"
    },
    "language_info": {
      "name": "python"
    }
  },
  "cells": [
    {
      "cell_type": "markdown",
      "source": [
        "Set"
      ],
      "metadata": {
        "id": "zGYQe0rLiFDY"
      }
    },
    {
      "cell_type": "markdown",
      "source": [
        "Sets are unordered, mutable collections of immutable objects that cannot contain duplicates. Sets are useful for storing and performing operations on data where each value is unique. Create a set with a comma separated sequence of values within curly braces."
      ],
      "metadata": {
        "id": "O3hSSKiFhPD2"
      }
    },
    {
      "cell_type": "code",
      "source": [
        "matkul = {\"Excel\", \"Python\", \"Azure\", \"Pemograman Web\", \"Android\"}"
      ],
      "metadata": {
        "id": "FBtFUOERjfOM"
      },
      "execution_count": 1,
      "outputs": []
    },
    {
      "cell_type": "code",
      "source": [
        "print(matkul)"
      ],
      "metadata": {
        "colab": {
          "base_uri": "https://localhost:8080/"
        },
        "id": "ahzLthytyQey",
        "outputId": "e83f6ebb-7eba-43be-a4d4-e9f458a8647a"
      },
      "execution_count": 3,
      "outputs": [
        {
          "output_type": "stream",
          "name": "stdout",
          "text": [
            "{'Python', 'Azure', 'Excel', 'Pemograman Web', 'Android'}\n"
          ]
        }
      ]
    },
    {
      "cell_type": "code",
      "source": [
        "type (matkul)"
      ],
      "metadata": {
        "colab": {
          "base_uri": "https://localhost:8080/"
        },
        "id": "R5-RCUUvyKzl",
        "outputId": "def57500-239f-4d51-a6fb-588f9241b7fc"
      },
      "execution_count": 2,
      "outputs": [
        {
          "output_type": "execute_result",
          "data": {
            "text/plain": [
              "set"
            ]
          },
          "metadata": {},
          "execution_count": 2
        }
      ]
    },
    {
      "cell_type": "code",
      "source": [
        " #Add and remove items from a set with add() and remove() respectively\n",
        "matkul.add(\"Bahasa Inggris\")"
      ],
      "metadata": {
        "id": "ZIvUzpZ8kA0p"
      },
      "execution_count": 4,
      "outputs": []
    },
    {
      "cell_type": "code",
      "source": [
        "print(matkul)"
      ],
      "metadata": {
        "colab": {
          "base_uri": "https://localhost:8080/"
        },
        "outputId": "91983f76-da1e-46de-a917-3fc8decea559",
        "id": "9f6xXiHcyant"
      },
      "execution_count": 5,
      "outputs": [
        {
          "output_type": "stream",
          "name": "stdout",
          "text": [
            "{'Python', 'Azure', 'Excel', 'Pemograman Web', 'Android', 'Bahasa Inggris'}\n"
          ]
        }
      ]
    },
    {
      "cell_type": "code",
      "source": [
        "matkul.remove(\"Azure\")"
      ],
      "metadata": {
        "id": "c_NnIywUkow3"
      },
      "execution_count": 7,
      "outputs": []
    },
    {
      "cell_type": "code",
      "source": [
        "print(matkul)"
      ],
      "metadata": {
        "colab": {
          "base_uri": "https://localhost:8080/"
        },
        "outputId": "079a8b66-1d6d-4191-81d7-bab74ff7f156",
        "id": "WKCfMrAsy0WB"
      },
      "execution_count": 8,
      "outputs": [
        {
          "output_type": "stream",
          "name": "stdout",
          "text": [
            "{'Python', 'Excel', 'Pemograman Web', 'Android', 'Bahasa Inggris'}\n"
          ]
        }
      ]
    },
    {
      "cell_type": "code",
      "source": [
        "#Set List Number SERIOUS DATA\n",
        "\n",
        "number1 = {4,4,4,6,6,6,6,5,5,5,5,5}\n"
      ],
      "metadata": {
        "id": "G5I0AG03-5GN"
      },
      "execution_count": 67,
      "outputs": []
    },
    {
      "cell_type": "code",
      "source": [
        "print(number1)"
      ],
      "metadata": {
        "colab": {
          "base_uri": "https://localhost:8080/"
        },
        "id": "x2k2tY2n8qdo",
        "outputId": "f3618c44-24e3-4abe-c1ea-94964dbbe099"
      },
      "execution_count": 68,
      "outputs": [
        {
          "output_type": "stream",
          "name": "stdout",
          "text": [
            "{4, 5, 6}\n"
          ]
        }
      ]
    },
    {
      "cell_type": "code",
      "source": [
        "nama ={\"Y\",\"U\",\"S\",\"U\",\"F\"}"
      ],
      "metadata": {
        "id": "BT434Da-9Fmx"
      },
      "execution_count": 65,
      "outputs": []
    },
    {
      "cell_type": "code",
      "source": [
        "print(nama)"
      ],
      "metadata": {
        "colab": {
          "base_uri": "https://localhost:8080/"
        },
        "outputId": "49955918-ab55-4a71-e48f-b7e1642532e7",
        "id": "2AJ4qDnu9P6M"
      },
      "execution_count": 66,
      "outputs": [
        {
          "output_type": "stream",
          "name": "stdout",
          "text": [
            "{'S', 'U', 'Y', 'F'}\n"
          ]
        }
      ]
    },
    {
      "cell_type": "markdown",
      "source": [
        "Dictionary"
      ],
      "metadata": {
        "id": "wljntI7PnBz2"
      }
    },
    {
      "cell_type": "markdown",
      "source": [
        "Dictionary is also a non-homogeneous data structure which stores key value pairs, represented by {}, and doesn’t allow duplicate keys."
      ],
      "metadata": {
        "id": "Xierp0_8o2Oq"
      }
    },
    {
      "cell_type": "code",
      "source": [
        "#Create a dict object\n",
        "student = {\"Student name\":\"Andi Yusuf\", \"Addres\": \"Jakarta\",\"study program\":\"Teknik Informatika\",\"age\": 20,\"ambition\":\"Teknik Informatika\",1:\"Backend Developer\",2:\"Games Developer\",\"Favorite food\":[\"Fried rice\",\"rendang\",\"meat ball\"]}"
      ],
      "metadata": {
        "id": "kEDrHnNel5NL"
      },
      "execution_count": 16,
      "outputs": []
    },
    {
      "cell_type": "code",
      "source": [
        "#Access the value using the key\n",
        "print(student['Student name'])"
      ],
      "metadata": {
        "colab": {
          "base_uri": "https://localhost:8080/"
        },
        "id": "4JmRCwXxqC68",
        "outputId": "1b983cc2-8fbf-4a12-c197-b9c40cc8e341"
      },
      "execution_count": 10,
      "outputs": [
        {
          "output_type": "stream",
          "name": "stdout",
          "text": [
            "Andi Yusuf\n"
          ]
        }
      ]
    },
    {
      "cell_type": "code",
      "source": [
        "student[\"study program\"]"
      ],
      "metadata": {
        "colab": {
          "base_uri": "https://localhost:8080/",
          "height": 35
        },
        "id": "RCiStVxH3pX0",
        "outputId": "8d93cc51-335f-4311-fab4-c2c4a3b69175"
      },
      "execution_count": 17,
      "outputs": [
        {
          "output_type": "execute_result",
          "data": {
            "text/plain": [
              "'Teknik Informatika'"
            ],
            "application/vnd.google.colaboratory.intrinsic+json": {
              "type": "string"
            }
          },
          "metadata": {},
          "execution_count": 17
        }
      ]
    },
    {
      "cell_type": "code",
      "source": [
        "student[\"Favorite food\"]"
      ],
      "metadata": {
        "colab": {
          "base_uri": "https://localhost:8080/"
        },
        "id": "9nChIz052V0u",
        "outputId": "2378f4f1-f1bf-4b1c-df2a-b974b1381500"
      },
      "execution_count": 15,
      "outputs": [
        {
          "output_type": "execute_result",
          "data": {
            "text/plain": [
              "['Fried rice', 'rendang', 'meat ball']"
            ]
          },
          "metadata": {},
          "execution_count": 15
        }
      ]
    },
    {
      "cell_type": "code",
      "source": [
        "student[1]"
      ],
      "metadata": {
        "colab": {
          "base_uri": "https://localhost:8080/",
          "height": 35
        },
        "id": "fM20VdS63vuT",
        "outputId": "cb9d5457-cd42-4ca8-bcd2-38a7f6617510"
      },
      "execution_count": 18,
      "outputs": [
        {
          "output_type": "execute_result",
          "data": {
            "text/plain": [
              "'Backend Developer'"
            ],
            "application/vnd.google.colaboratory.intrinsic+json": {
              "type": "string"
            }
          },
          "metadata": {},
          "execution_count": 18
        }
      ]
    },
    {
      "cell_type": "code",
      "source": [
        "student[2]"
      ],
      "metadata": {
        "colab": {
          "base_uri": "https://localhost:8080/",
          "height": 35
        },
        "id": "US6IuzNs32V8",
        "outputId": "4f22fa76-20e8-4e7b-9024-4d3e877b2ee6"
      },
      "execution_count": 19,
      "outputs": [
        {
          "output_type": "execute_result",
          "data": {
            "text/plain": [
              "'Games Developer'"
            ],
            "application/vnd.google.colaboratory.intrinsic+json": {
              "type": "string"
            }
          },
          "metadata": {},
          "execution_count": 19
        }
      ]
    },
    {
      "cell_type": "code",
      "source": [
        "#Update the value for a particular key\n",
        "student['Addres'] = \"Bandung\""
      ],
      "metadata": {
        "id": "rjgNz3OLqdVz"
      },
      "execution_count": 21,
      "outputs": []
    },
    {
      "cell_type": "code",
      "source": [
        "print(student[\"Addres\"])"
      ],
      "metadata": {
        "colab": {
          "base_uri": "https://localhost:8080/"
        },
        "id": "igW5gqEcqnjx",
        "outputId": "c77e276a-7c6b-4359-c5ee-3e016e53088c"
      },
      "execution_count": 22,
      "outputs": [
        {
          "output_type": "stream",
          "name": "stdout",
          "text": [
            "Bandung\n"
          ]
        }
      ]
    },
    {
      "cell_type": "code",
      "source": [
        "#Insert a new key-value pair\n",
        "student['Tinggi'] = 170"
      ],
      "metadata": {
        "id": "ev6gp2r4qzuE"
      },
      "execution_count": 29,
      "outputs": []
    },
    {
      "cell_type": "code",
      "source": [
        "print(student)"
      ],
      "metadata": {
        "colab": {
          "base_uri": "https://localhost:8080/"
        },
        "id": "MiKXIMvMrJ9J",
        "outputId": "f523bffe-f0e0-4007-98a1-a4505363c63a"
      },
      "execution_count": 30,
      "outputs": [
        {
          "output_type": "stream",
          "name": "stdout",
          "text": [
            "{'Student name': 'Andi Yusuf', 'Addres': 'Bandung', 'study program': 'Teknik Informatika', 'age': 20, 'ambition': 'Teknik Informatika', 1: 'Backend Developer', 2: 'Games Developer', 'Favorite food': ['Fried rice', 'rendang', 'meat ball'], 'Tinggi': 170}\n"
          ]
        }
      ]
    },
    {
      "cell_type": "code",
      "source": [
        "#Delete a key-value pair\n",
        "del student['Tinggi']\n",
        "print(student)"
      ],
      "metadata": {
        "colab": {
          "base_uri": "https://localhost:8080/"
        },
        "id": "r5r9TsXMrTdp",
        "outputId": "ccaaaefb-7544-4e75-9412-18da38613473"
      },
      "execution_count": 31,
      "outputs": [
        {
          "output_type": "stream",
          "name": "stdout",
          "text": [
            "{'Student name': 'Andi Yusuf', 'Addres': 'Bandung', 'study program': 'Teknik Informatika', 'age': 20, 'ambition': 'Teknik Informatika', 1: 'Backend Developer', 2: 'Games Developer', 'Favorite food': ['Fried rice', 'rendang', 'meat ball']}\n"
          ]
        }
      ]
    },
    {
      "cell_type": "markdown",
      "source": [
        "Convert Data Types"
      ],
      "metadata": {
        "id": "tZYBEnrUsIp3"
      }
    },
    {
      "cell_type": "markdown",
      "source": [
        "The process of converting the value of one data type (integer, string, float, etc.) to another data type"
      ],
      "metadata": {
        "id": "ppW_FoImsD02"
      }
    },
    {
      "cell_type": "code",
      "source": [
        "#Converts object x to a string representation with str(). To do this pass a number or a variable containing the numeric value to this function.\n",
        "p = str(29)"
      ],
      "metadata": {
        "id": "qWSTs_xFserX"
      },
      "execution_count": null,
      "outputs": []
    },
    {
      "cell_type": "code",
      "source": [
        "print(type(p))"
      ],
      "metadata": {
        "colab": {
          "base_uri": "https://localhost:8080/"
        },
        "id": "nYgwGfR4szI3",
        "outputId": "a54d59e6-f96b-43b5-85ed-3bfec8316e34"
      },
      "execution_count": null,
      "outputs": [
        {
          "output_type": "stream",
          "name": "stdout",
          "text": [
            "<class 'str'>\n"
          ]
        }
      ]
    },
    {
      "cell_type": "code",
      "source": [
        "#Convert Float to Integer\n",
        "\n",
        "6.9"
      ],
      "metadata": {
        "colab": {
          "base_uri": "https://localhost:8080/"
        },
        "id": "mpjh-bij5m86",
        "outputId": "0461c023-c4e9-4794-83fc-19469c12b33e"
      },
      "execution_count": 33,
      "outputs": [
        {
          "output_type": "execute_result",
          "data": {
            "text/plain": [
              "6.9"
            ]
          },
          "metadata": {},
          "execution_count": 33
        }
      ]
    },
    {
      "cell_type": "code",
      "source": [
        "type(6.9)"
      ],
      "metadata": {
        "colab": {
          "base_uri": "https://localhost:8080/"
        },
        "id": "TnXazm0k6FW5",
        "outputId": "972c268a-5a19-4f6f-af8b-cf4cda33ce66"
      },
      "execution_count": 34,
      "outputs": [
        {
          "output_type": "execute_result",
          "data": {
            "text/plain": [
              "float"
            ]
          },
          "metadata": {},
          "execution_count": 34
        }
      ]
    },
    {
      "cell_type": "code",
      "source": [
        "print(type(int(6.9)))"
      ],
      "metadata": {
        "colab": {
          "base_uri": "https://localhost:8080/"
        },
        "outputId": "59643019-3c29-4d4e-a173-5cd393d26cb6",
        "id": "nKAwSk1nOy-0"
      },
      "execution_count": 37,
      "outputs": [
        {
          "output_type": "stream",
          "name": "stdout",
          "text": [
            "<class 'int'>\n"
          ]
        }
      ]
    },
    {
      "cell_type": "code",
      "source": [
        "int(6.9)"
      ],
      "metadata": {
        "colab": {
          "base_uri": "https://localhost:8080/"
        },
        "id": "2ediicb555HQ",
        "outputId": "e029b483-e713-4652-a84d-8e738b2e9005"
      },
      "execution_count": 39,
      "outputs": [
        {
          "output_type": "execute_result",
          "data": {
            "text/plain": [
              "6"
            ]
          },
          "metadata": {},
          "execution_count": 39
        }
      ]
    },
    {
      "cell_type": "code",
      "source": [
        "#Convert Integer to Float\n",
        "\n",
        "19"
      ],
      "metadata": {
        "colab": {
          "base_uri": "https://localhost:8080/"
        },
        "id": "is3QoFyV6h7h",
        "outputId": "9854261d-61ea-4844-b829-c0da833a3aa9"
      },
      "execution_count": 42,
      "outputs": [
        {
          "output_type": "execute_result",
          "data": {
            "text/plain": [
              "19"
            ]
          },
          "metadata": {},
          "execution_count": 42
        }
      ]
    },
    {
      "cell_type": "code",
      "source": [
        "type(19)"
      ],
      "metadata": {
        "colab": {
          "base_uri": "https://localhost:8080/"
        },
        "id": "e-HCxlAB6_Hk",
        "outputId": "4c187c82-5165-44af-9b76-5aae7d79dc48"
      },
      "execution_count": 43,
      "outputs": [
        {
          "output_type": "execute_result",
          "data": {
            "text/plain": [
              "int"
            ]
          },
          "metadata": {},
          "execution_count": 43
        }
      ]
    },
    {
      "cell_type": "code",
      "source": [
        "print(type(float(19)))"
      ],
      "metadata": {
        "colab": {
          "base_uri": "https://localhost:8080/"
        },
        "outputId": "f508bd8f-1b16-4275-e96f-1b61e320e763",
        "id": "KtuNuVMi7EuL"
      },
      "execution_count": 44,
      "outputs": [
        {
          "output_type": "stream",
          "name": "stdout",
          "text": [
            "<class 'float'>\n"
          ]
        }
      ]
    },
    {
      "cell_type": "code",
      "source": [
        "float(19)"
      ],
      "metadata": {
        "colab": {
          "base_uri": "https://localhost:8080/"
        },
        "id": "AtJ_de3o7I4z",
        "outputId": "0252aea8-577f-41d9-8f12-e8ac36127d3a"
      },
      "execution_count": 45,
      "outputs": [
        {
          "output_type": "execute_result",
          "data": {
            "text/plain": [
              "19.0"
            ]
          },
          "metadata": {},
          "execution_count": 45
        }
      ]
    },
    {
      "cell_type": "code",
      "source": [
        "19"
      ],
      "metadata": {
        "id": "qsiFqKyq6o7y"
      },
      "execution_count": null,
      "outputs": []
    },
    {
      "cell_type": "code",
      "source": [
        "age = 21\n",
        "warning = 'You must be ' + str(age) + '-years-old to enter this bar'\n",
        "warning"
      ],
      "metadata": {
        "colab": {
          "base_uri": "https://localhost:8080/",
          "height": 35
        },
        "id": "I9CWlX9ds5Gi",
        "outputId": "2853a15b-2a41-4ed6-c78c-3c469ed82b14"
      },
      "execution_count": null,
      "outputs": [
        {
          "output_type": "execute_result",
          "data": {
            "text/plain": [
              "'You must be 21-years-old to enter this bar'"
            ],
            "application/vnd.google.colaboratory.intrinsic+json": {
              "type": "string"
            }
          },
          "metadata": {},
          "execution_count": 39
        }
      ]
    }
  ]
}